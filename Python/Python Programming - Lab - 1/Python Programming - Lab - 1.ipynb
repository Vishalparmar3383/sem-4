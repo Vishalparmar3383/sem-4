{
 "cells": [
  {
   "cell_type": "markdown",
   "metadata": {},
   "source": [
    "<a href='https://www.darshan.ac.in/'> <img src='https://www.darshan.ac.in/Content/media/DU_Logo.svg' width=\"250\" height=\"10\"/></a>\n",
    "<pre>\n",
    "<center><b><h1>Python Programming - 2301CS404</b></center>\n",
    "<center><b><h1>Lab - 1</b></center>    \n",
    "<pre>"
   ]
  },
  {
   "cell_type": "markdown",
   "metadata": {},
   "source": [
    "<center><b><h1>Name : PARMAR VISHAL</b></center>\n",
    "<center><b><h1>Enrollment no. : 23010101197</b></center>\n"
   ]
  },
  {
   "cell_type": "markdown",
   "metadata": {},
   "source": [
    "### 01) WAP to print “Hello World”"
   ]
  },
  {
   "cell_type": "code",
   "execution_count": 4,
   "metadata": {},
   "outputs": [
    {
     "name": "stdout",
     "output_type": "stream",
     "text": [
      "Hello World\n"
     ]
    }
   ],
   "source": [
    "print(\"Hello World\")"
   ]
  },
  {
   "cell_type": "markdown",
   "metadata": {},
   "source": [
    "### 02) WAP to print addition of two numbers with and without using input()."
   ]
  },
  {
   "cell_type": "code",
   "execution_count": 26,
   "metadata": {},
   "outputs": [
    {
     "name": "stdout",
     "output_type": "stream",
     "text": [
      "22\n",
      "5\n"
     ]
    }
   ],
   "source": [
    "num1 = 10\n",
    "num2 = 12\n",
    "print(num1+num2)\n",
    "num3 = int(input(\"enter number 1 : \"))\n",
    "num4 = int(input(\"enter number 2 : \"))\n",
    "print(num3+num4)"
   ]
  },
  {
   "cell_type": "markdown",
   "metadata": {},
   "source": [
    "### 03) WAP to check the type of the variable."
   ]
  },
  {
   "cell_type": "code",
   "execution_count": 27,
   "metadata": {},
   "outputs": [
    {
     "name": "stdout",
     "output_type": "stream",
     "text": [
      "<class 'bool'>\n"
     ]
    }
   ],
   "source": [
    "a = True\n",
    "print(type(a))"
   ]
  },
  {
   "cell_type": "markdown",
   "metadata": {},
   "source": [
    "### 04) WAP to calculate simple interest."
   ]
  },
  {
   "cell_type": "code",
   "execution_count": 29,
   "metadata": {},
   "outputs": [
    {
     "name": "stdout",
     "output_type": "stream",
     "text": [
      "Simple Intrest :  60.0\n"
     ]
    }
   ],
   "source": [
    "p = float(input(\"enter P : \"))\n",
    "r = float(input(\"enter R : \"))\n",
    "n = float(input(\"enter N : \"))\n",
    "print(\"Simple Intrest : \",(p*r*n)/100)\n"
   ]
  },
  {
   "cell_type": "markdown",
   "metadata": {},
   "source": [
    "### 05) WAP to calculate area and perimeter of a circle."
   ]
  },
  {
   "cell_type": "code",
   "execution_count": 30,
   "metadata": {},
   "outputs": [
    {
     "name": "stdout",
     "output_type": "stream",
     "text": [
      "Area of a circle =  28.274333882308138 \n",
      "Perimeter of a circle :  18.84955592153876\n"
     ]
    }
   ],
   "source": [
    "import math\n",
    "\n",
    "radius = float(input(\"enter Radius : \"))\n",
    "print(\"Area of a circle = \",math.pi*radius**2 ,\"\\nPerimeter of a circle : \",2*math.pi*radius)"
   ]
  },
  {
   "cell_type": "markdown",
   "metadata": {},
   "source": [
    "### 06) WAP to calculate area of a triangle."
   ]
  },
  {
   "cell_type": "code",
   "execution_count": 31,
   "metadata": {},
   "outputs": [
    {
     "name": "stdout",
     "output_type": "stream",
     "text": [
      "Area of triangle :  3.0\n"
     ]
    }
   ],
   "source": [
    "height = float(input(\"enter Height : \"))\n",
    "base = float(input(\"enter Base : \"))\n",
    "print(\"Area of triangle : \",(height*base)/2)\n"
   ]
  },
  {
   "cell_type": "markdown",
   "metadata": {},
   "source": [
    "### 07) WAP to compute quotient and remainder."
   ]
  },
  {
   "cell_type": "code",
   "execution_count": 32,
   "metadata": {},
   "outputs": [
    {
     "name": "stdout",
     "output_type": "stream",
     "text": [
      "Quotient :  4 \n",
      "Remainder :  4\n"
     ]
    }
   ],
   "source": [
    "num5 = int(input(\"enter number 1 : \"))\n",
    "num6 = int(input(\"enter number 2 : \"))\n",
    "print(\"Quotient : \",int(num5/num6),\"\\nRemainder : \",num5%num6)"
   ]
  },
  {
   "cell_type": "markdown",
   "metadata": {},
   "source": [
    "### 08) WAP to convert degree into Fahrenheit and vice versa."
   ]
  },
  {
   "cell_type": "code",
   "execution_count": 25,
   "metadata": {},
   "outputs": [
    {
     "name": "stdout",
     "output_type": "stream",
     "text": [
      "Tempreture in Celsius :  25.0 °C\n",
      "Tempreture in fahrenheit :  77.0 °F\n"
     ]
    }
   ],
   "source": [
    "f = float(input(\"Enter tempreture in fahrenheit : \"))\n",
    "print(\"Tempreture in Celsius : \",(f - 32) * 5/9,\"°C\")\n",
    "c = float(input(\"Enter tempreture in Celsius : \"))\n",
    "print(\"Tempreture in fahrenheit : \",(c * 9/5) + 32,\"°F\")\n",
    "\n"
   ]
  },
  {
   "cell_type": "markdown",
   "metadata": {},
   "source": [
    "### 09) WAP to find the distance between two points in 2-D space."
   ]
  },
  {
   "cell_type": "code",
   "execution_count": 19,
   "metadata": {},
   "outputs": [
    {
     "name": "stdout",
     "output_type": "stream",
     "text": [
      "The distance beetween two points =  5.0990195135927845\n"
     ]
    }
   ],
   "source": [
    "x1 = int(input(\"enter x1 : \"))\n",
    "x2 = int(input(\"enter x2 : \"))\n",
    "y1 = int(input(\"enter y1 : \"))\n",
    "y2 = int(input(\"enter y2 : \"))\n",
    "print(\"The distance beetween two points = \",((x2-x1)**2 + (y2-y1)**2)**0.5)"
   ]
  },
  {
   "cell_type": "markdown",
   "metadata": {},
   "source": [
    "### 10) WAP to print sum of n natural numbers."
   ]
  },
  {
   "cell_type": "code",
   "execution_count": 17,
   "metadata": {},
   "outputs": [
    {
     "name": "stdout",
     "output_type": "stream",
     "text": [
      "The sum of n natural numbers :  200010000.0\n"
     ]
    }
   ],
   "source": [
    "n1 = int(input(\"enter number : \"))\n",
    "print(\"The sum of n natural numbers : \",n1*(n1+1)/2)"
   ]
  },
  {
   "cell_type": "markdown",
   "metadata": {},
   "source": [
    "### 11) WAP to print sum of square of n natural numbers."
   ]
  },
  {
   "cell_type": "code",
   "execution_count": null,
   "metadata": {},
   "outputs": [
    {
     "name": "stdout",
     "output_type": "stream",
     "text": [
      "14.0\n"
     ]
    }
   ],
   "source": [
    "n2 = int(input(\"enter number : \"))\n",
    "print(\"The sum of square of n natural numbers : \",n2*(n2+1)*(2*n2+1)/6)"
   ]
  },
  {
   "cell_type": "markdown",
   "metadata": {},
   "source": [
    "### 12) WAP to concate the first and last name of the student."
   ]
  },
  {
   "cell_type": "code",
   "execution_count": 8,
   "metadata": {},
   "outputs": [
    {
     "name": "stdout",
     "output_type": "stream",
     "text": [
      "vishal parmar\n"
     ]
    }
   ],
   "source": [
    "fname = input(\"Enter Fname : \")\n",
    "lname = input(\"Enter Lname : \")\n",
    "print(fname,lname,sep=\" \")"
   ]
  },
  {
   "cell_type": "markdown",
   "metadata": {},
   "source": [
    "### 13) WAP to swap two numbers."
   ]
  },
  {
   "cell_type": "code",
   "execution_count": null,
   "metadata": {},
   "outputs": [
    {
     "name": "stdout",
     "output_type": "stream",
     "text": [
      "before swaping : a = 2  & b = 3\n",
      "after swaping : a = 3  & b = 2\n"
     ]
    }
   ],
   "source": [
    "num7 = int(input(\"enter number a : \"))\n",
    "num8 = int(input(\"enter number b : \"))\n",
    "print(\"before swaping : a =\",num7,\" & b =\",num8)\n",
    "temp = num7 # a = a + b\n",
    "num7 = num8 # b = a - b\n",
    "num8 = temp # a = a - b\n",
    "print(\"after swaping : a =\",num7,\" & b =\",num8)"
   ]
  },
  {
   "cell_type": "markdown",
   "metadata": {},
   "source": [
    "### 14) WAP to get the distance from user into kilometer, and convert it into meter, feet, inches and centimeter."
   ]
  },
  {
   "cell_type": "code",
   "execution_count": 6,
   "metadata": {},
   "outputs": [
    {
     "name": "stdout",
     "output_type": "stream",
     "text": [
      "10.0 km = 10000.0 m\n",
      "10.0 km = 32808.4 feet\n",
      "10.0 km = 393700.80000000005 inches\n",
      "10.0 km = 1000000.0320000001 cm\n"
     ]
    }
   ],
   "source": [
    "km = float(input(\"Enter Distance in kilometere : \"))\n",
    "print(km,\"km =\",km*1000,\"m\")\n",
    "print(km,\"km =\",km*3280.84,\"feet\")\n",
    "print(km,\"km =\",km*39370.08,\"inches\")\n",
    "print(km,\"km =\",km*100000.0032,\"cm\")"
   ]
  },
  {
   "cell_type": "markdown",
   "metadata": {},
   "source": [
    "### 15) WAP to get day, month and year from the user and print the date in the given format: 23-11-2024."
   ]
  },
  {
   "cell_type": "code",
   "execution_count": 34,
   "metadata": {},
   "outputs": [
    {
     "name": "stdout",
     "output_type": "stream",
     "text": [
      "2-2-23\n"
     ]
    }
   ],
   "source": [
    "day = int(input(\"Enter Day: \"))\n",
    "month = int(input(\"Enter Month : \"))\n",
    "year = int(input(\"Enter Year : \"))\n",
    "print(day,month,year,sep=\"-\")"
   ]
  }
 ],
 "metadata": {
  "kernelspec": {
   "display_name": "Python 3",
   "language": "python",
   "name": "python3"
  },
  "language_info": {
   "codemirror_mode": {
    "name": "ipython",
    "version": 3
   },
   "file_extension": ".py",
   "mimetype": "text/x-python",
   "name": "python",
   "nbconvert_exporter": "python",
   "pygments_lexer": "ipython3",
   "version": "3.12.0"
  }
 },
 "nbformat": 4,
 "nbformat_minor": 4
}
