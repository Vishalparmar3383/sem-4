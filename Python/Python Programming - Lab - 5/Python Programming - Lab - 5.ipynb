{
 "cells": [
  {
   "cell_type": "markdown",
   "metadata": {},
   "source": [
    "\n",
    "<a href='https://www.darshan.ac.in/'> <img src='https://www.darshan.ac.in/Content/media/DU_Logo.svg' width=\"250\" height=\"300\"/></a>\n",
    "<pre>\n",
    "<center><b><h1>Python Programming - 2301CS404</b></center>\n",
    "<center><b><h1>Lab - 5</b></center>    \n",
    "<pre>"
   ]
  },
  {
   "cell_type": "markdown",
   "metadata": {},
   "source": [
    "# List"
   ]
  },
  {
   "cell_type": "markdown",
   "metadata": {},
   "source": [
    "### 01) WAP to find sum of all the elements in a List."
   ]
  },
  {
   "cell_type": "code",
   "execution_count": 2,
   "metadata": {},
   "outputs": [
    {
     "name": "stdout",
     "output_type": "stream",
     "text": [
      "The sum of all elements in list : 14\n"
     ]
    }
   ],
   "source": [
    "l1 = [2,3,4,5]\n",
    "print('The sum of all elements in list :',sum(l1))"
   ]
  },
  {
   "cell_type": "markdown",
   "metadata": {},
   "source": [
    "### 02) WAP to find largest element in a List."
   ]
  },
  {
   "cell_type": "code",
   "execution_count": 4,
   "metadata": {},
   "outputs": [
    {
     "name": "stdout",
     "output_type": "stream",
     "text": [
      "larget number in list : -7\n"
     ]
    }
   ],
   "source": [
    "l2 = [1,2,4,7,54]\n",
    "large = l2[0]\n",
    "for i in l2:\n",
    "    if i>large:\n",
    "        large = i\n",
    "print(\"larget number in list :\",large)"
   ]
  },
  {
   "cell_type": "markdown",
   "metadata": {},
   "source": [
    "### 03) WAP to find the length of a List."
   ]
  },
  {
   "cell_type": "code",
   "execution_count": 6,
   "metadata": {},
   "outputs": [
    {
     "name": "stdout",
     "output_type": "stream",
     "text": [
      "The length of list : 8\n"
     ]
    }
   ],
   "source": [
    "l3 = [2,345,6,3256,6,355,46,3525]\n",
    "length = 0\n",
    "for i in l3:\n",
    "    length += 1\n",
    "print('The length of list :',length)"
   ]
  },
  {
   "cell_type": "markdown",
   "metadata": {},
   "source": [
    "### 04) WAP to interchange first and last elements in a list."
   ]
  },
  {
   "cell_type": "code",
   "execution_count": 7,
   "metadata": {},
   "outputs": [
    {
     "name": "stdout",
     "output_type": "stream",
     "text": [
      "Before swaping : [3, 4, 23, 35, 3, 2, 2524, 24, 24]\n",
      "after swaping : [24, 4, 23, 35, 3, 2, 2524, 24, 3]\n"
     ]
    }
   ],
   "source": [
    "l4 = [3,4,23,35,3,2,2524,24,24]\n",
    "print('Before swaping :',l4)\n",
    "temp = l4[0]\n",
    "l4[0] = l4[len(l4)-1]\n",
    "l4[len(l4)-1] = temp\n",
    "print('after swaping :',l4)"
   ]
  },
  {
   "cell_type": "markdown",
   "metadata": {},
   "source": [
    "### 05) WAP to split the List into two parts and append the first part to the end."
   ]
  },
  {
   "cell_type": "code",
   "execution_count": 13,
   "metadata": {},
   "outputs": [
    {
     "name": "stdout",
     "output_type": "stream",
     "text": [
      "[5, 6, 7, 8, 9, 1, 2, 3, 4]\n"
     ]
    }
   ],
   "source": [
    "l5 = [1,2,3,4,5,6,7,8,9]\n",
    "half1 = l5[:int(len(l5)/2)]\n",
    "half2 = l5[int(len(l5)/2):]\n",
    "half2.extend(half1)\n",
    "print(half2)"
   ]
  },
  {
   "cell_type": "markdown",
   "metadata": {},
   "source": [
    "### 06) WAP to interchange the elements on two positions entered by a user."
   ]
  },
  {
   "cell_type": "code",
   "execution_count": 14,
   "metadata": {},
   "outputs": [
    {
     "name": "stdout",
     "output_type": "stream",
     "text": [
      "Before swaping : [1, 2, 3, 4, 5, 6, 7, 8, 9, 0]\n",
      "After swaping : [1, 2, 4, 3, 5, 6, 7, 8, 9, 0]\n"
     ]
    }
   ],
   "source": [
    "l6 = [1,2,3,4,5,6,7,8,9,0]\n",
    "print('Before swaping :',l6)\n",
    "p1 = int(input(\"Enter first position : \"))\n",
    "p2 = int(input(\"Enter second position : \"))\n",
    "temp = l6[p1]\n",
    "l6[p1] = l6[p2]\n",
    "l6[p2] = temp\n",
    "print('After swaping :',l6)"
   ]
  },
  {
   "cell_type": "markdown",
   "metadata": {},
   "source": [
    "### 07) WAP to reverse the list entered by user."
   ]
  },
  {
   "cell_type": "code",
   "execution_count": 15,
   "metadata": {},
   "outputs": [
    {
     "name": "stdout",
     "output_type": "stream",
     "text": [
      "[5, 9, 8, 0, 2, 7, 133, 24, 23, 23]\n"
     ]
    }
   ],
   "source": [
    "l7 = [23,23,24,133,7,2,0,8,9,5]\n",
    "l7.reverse()\n",
    "print(l7)"
   ]
  },
  {
   "cell_type": "markdown",
   "metadata": {},
   "source": [
    "### 08) WAP to print even numbers in a list."
   ]
  },
  {
   "cell_type": "code",
   "execution_count": 17,
   "metadata": {},
   "outputs": [
    {
     "name": "stdout",
     "output_type": "stream",
     "text": [
      "2\n",
      "4\n",
      "6\n",
      "8\n",
      "0\n"
     ]
    }
   ],
   "source": [
    "l8 = [1,2,3,4,5,6,7,8,9,0]\n",
    "for i in l8:\n",
    "    if i%2==0:\n",
    "        print(i)"
   ]
  },
  {
   "cell_type": "markdown",
   "metadata": {},
   "source": [
    "### 09) WAP to count unique items in a list."
   ]
  },
  {
   "cell_type": "code",
   "execution_count": 24,
   "metadata": {},
   "outputs": [
    {
     "name": "stdout",
     "output_type": "stream",
     "text": [
      "Number of Uniqe Elements : 5\n"
     ]
    }
   ],
   "source": [
    "l9 = [1,3,5,2,4,1,0]\n",
    "count = 0\n",
    "for i in l9:\n",
    "    if l9.count(i)==1:\n",
    "        count += 1\n",
    "print('Number of Uniqe Elements :',count)"
   ]
  },
  {
   "cell_type": "markdown",
   "metadata": {},
   "source": [
    "### 10) WAP to copy a list."
   ]
  },
  {
   "cell_type": "code",
   "execution_count": 28,
   "metadata": {},
   "outputs": [
    {
     "name": "stdout",
     "output_type": "stream",
     "text": [
      "Copied List : [1, 3, 6, 9, 2, 5, 0, 7]\n"
     ]
    }
   ],
   "source": [
    "l10 = [1,3,6,9,2,5,0,7]\n",
    "tempList = l10.copy()\n",
    "print('Copied List :',tempList)"
   ]
  },
  {
   "cell_type": "markdown",
   "metadata": {},
   "source": [
    "### 11) WAP to print all odd numbers in a given range."
   ]
  },
  {
   "cell_type": "code",
   "execution_count": 30,
   "metadata": {},
   "outputs": [
    {
     "name": "stdout",
     "output_type": "stream",
     "text": [
      "5\n",
      "7\n",
      "9\n"
     ]
    }
   ],
   "source": [
    "l11 = [1,2,3,4,5,6,7,8,9,0,12,3,564,5,2,6,24,62,48,9,7]\n",
    "r1 = int(input(\"Enter first range : \"))\n",
    "r2 = int(input(\"Enter second second : \"))\n",
    "for i in range(r1,r2+1):\n",
    "    if l11[i]%2==1:\n",
    "        print(l11[i])"
   ]
  },
  {
   "cell_type": "markdown",
   "metadata": {},
   "source": [
    "### 12) WAP to count occurrences of an element in a list."
   ]
  },
  {
   "cell_type": "code",
   "execution_count": 35,
   "metadata": {},
   "outputs": [
    {
     "name": "stdout",
     "output_type": "stream",
     "text": [
      "Occurrences of 1 in list : 1\n",
      "Occurrences of 2 in list : 3\n",
      "Occurrences of 3 in list : 1\n",
      "Occurrences of 4 in list : 4\n",
      "Occurrences of 5 in list : 1\n",
      "Occurrences of 7 in list : 1\n",
      "Occurrences of 0 in list : 1\n"
     ]
    }
   ],
   "source": [
    "l12 = [1,2,3,4,5,2,4,7,4,4,2,0]\n",
    "temp = []\n",
    "for i in l12:\n",
    "    if temp.__contains__(i) == False:\n",
    "        temp.append(i)\n",
    "        c = l12.count(i)\n",
    "        print(\"Occurrences of {0} in list : {1}\".format(i,c))"
   ]
  },
  {
   "cell_type": "markdown",
   "metadata": {},
   "source": [
    "### 13) WAP to find second largest number in a list."
   ]
  },
  {
   "cell_type": "code",
   "execution_count": 41,
   "metadata": {},
   "outputs": [
    {
     "name": "stdout",
     "output_type": "stream",
     "text": [
      "Second large number in list : 8\n"
     ]
    }
   ],
   "source": [
    "l13 = [0,1,2,3,4,5,6,7,8,9]\n",
    "# large = l13[0]\n",
    "# secondLarge = l13[1]\n",
    "# for i in l13:\n",
    "#     if large<i:\n",
    "#         large = i\n",
    "# for i in l13:\n",
    "#     if i>secondLarge and i<large:\n",
    "#         secondLarge = i\n",
    "temp = l13.copy()\n",
    "secondLarge = temp[len(temp)-2]\n",
    "print('Second large number in list :',secondLarge)"
   ]
  },
  {
   "cell_type": "markdown",
   "metadata": {},
   "source": [
    "### 14) WAP to extract elements with frequency greater than K."
   ]
  },
  {
   "cell_type": "code",
   "execution_count": 43,
   "metadata": {},
   "outputs": [
    {
     "name": "stdout",
     "output_type": "stream",
     "text": [
      "Occurrences of 2 in list : 3\n",
      "Occurrences of 4 in list : 4\n"
     ]
    }
   ],
   "source": [
    "l14 = [1,2,3,4,5,2,4,7,4,4,2,0]\n",
    "k = int(input(\"Enter value of K : \"))\n",
    "temp = []\n",
    "for i in l14:\n",
    "    if temp.__contains__(i) == False:\n",
    "        temp.append(i)\n",
    "        c = l14.count(i)\n",
    "        if c>k:\n",
    "            print(\"Occurrences of {0} in list : {1}\".format(i,c))"
   ]
  },
  {
   "cell_type": "markdown",
   "metadata": {},
   "source": [
    "### 15) WAP to create a list of squared numbers from 0 to 9 with and without using List Comprehension."
   ]
  },
  {
   "cell_type": "code",
   "execution_count": 45,
   "metadata": {},
   "outputs": [
    {
     "name": "stdout",
     "output_type": "stream",
     "text": [
      "[0, 1, 4, 9, 16, 25, 36, 49, 64, 81]\n",
      "[0, 1, 4, 9, 16, 25, 36, 49, 64, 81]\n"
     ]
    }
   ],
   "source": [
    "l15_1 = []\n",
    "for i in range(10):\n",
    "    l15_1.append(i**2)\n",
    "print(l15_1)\n",
    "l15_2 = [i**2 for i in range(10)]\n",
    "print(l15_2)"
   ]
  },
  {
   "cell_type": "markdown",
   "metadata": {},
   "source": [
    "### 16) WAP to create a new list (fruit whose name starts with 'b') from the list of fruits given by user."
   ]
  },
  {
   "cell_type": "code",
   "execution_count": 46,
   "metadata": {},
   "outputs": [
    {
     "name": "stdout",
     "output_type": "stream",
     "text": [
      "Names of fruits start from B : ['banana', 'Berry', 'Blueberry']\n"
     ]
    }
   ],
   "source": [
    "l16 = ['banana','cherry','apple','Berry','Citrus', 'Plum', 'Mandarin','Blueberry']\n",
    "fruits = []\n",
    "for i in l16:\n",
    "    if i[0].upper() == 'B':\n",
    "        fruits.append(i)\n",
    "print(\"Names of fruits start from B :\",fruits)"
   ]
  },
  {
   "cell_type": "markdown",
   "metadata": {},
   "source": [
    "### 17) WAP to create a list of common elements from given two lists."
   ]
  },
  {
   "cell_type": "code",
   "execution_count": 47,
   "metadata": {},
   "outputs": [
    {
     "name": "stdout",
     "output_type": "stream",
     "text": [
      "List of common elements : [2, 3, 4]\n"
     ]
    }
   ],
   "source": [
    "l17_1 = [1,2,3,4,5,3]\n",
    "l17_2 = [2,3,4,6,3,8]\n",
    "result = []\n",
    "for i in l17_1:\n",
    "    if i in l17_2 and i not in result:\n",
    "        result.append(i)\n",
    "print('List of common elements :',result)\n"
   ]
  }
 ],
 "metadata": {
  "kernelspec": {
   "display_name": "Python 3",
   "language": "python",
   "name": "python3"
  },
  "language_info": {
   "codemirror_mode": {
    "name": "ipython",
    "version": 3
   },
   "file_extension": ".py",
   "mimetype": "text/x-python",
   "name": "python",
   "nbconvert_exporter": "python",
   "pygments_lexer": "ipython3",
   "version": "3.12.6"
  }
 },
 "nbformat": 4,
 "nbformat_minor": 4
}
