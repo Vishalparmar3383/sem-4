{
 "cells": [
  {
   "cell_type": "markdown",
   "metadata": {},
   "source": [
    "\n",
    "<a href='https://www.darshan.ac.in/'> <img src='https://www.darshan.ac.in/Content/media/DU_Logo.svg' width=\"250\" height=\"300\"/></a>\n",
    "<pre>\n",
    "<center><b><h1>Python Programming - 2301CS404</b></center>\n",
    "<center><b><h1>Lab - 2</b></center>    \n",
    "<pre>"
   ]
  },
  {
   "cell_type": "markdown",
   "metadata": {},
   "source": [
    "<center><b><h1>Name : Vishal Parmar</b></center>\n",
    "<center><b><h1>Enroll no. : 23010101197</b></center>"
   ]
  },
  {
   "cell_type": "markdown",
   "metadata": {},
   "source": [
    "# if..else.."
   ]
  },
  {
   "cell_type": "markdown",
   "metadata": {},
   "source": [
    "### 01) WAP to check whether the given number is positive or negative."
   ]
  },
  {
   "cell_type": "code",
   "execution_count": 4,
   "metadata": {},
   "outputs": [
    {
     "name": "stdout",
     "output_type": "stream",
     "text": [
      "Negative\n"
     ]
    }
   ],
   "source": [
    "n1 = int(input(\"Enter number to check positive or negative : \"))\n",
    "if n1>=0 :\n",
    "    print(\"Positive\")\n",
    "else :\n",
    "    print(\"Negative\")"
   ]
  },
  {
   "cell_type": "markdown",
   "metadata": {},
   "source": [
    "### 02) WAP to check whether the given number is odd or even."
   ]
  },
  {
   "cell_type": "code",
   "execution_count": 10,
   "metadata": {},
   "outputs": [
    {
     "name": "stdout",
     "output_type": "stream",
     "text": [
      "Even\n"
     ]
    }
   ],
   "source": [
    "n2 = int(input(\"Enter number to check odd or even : \"))\n",
    "if n2%2==0 :\n",
    "    print(\"Even\")\n",
    "else :\n",
    "    print(\"Odd\")"
   ]
  },
  {
   "cell_type": "markdown",
   "metadata": {},
   "source": [
    "### 03) WAP to find out largest number from given two numbers using simple if and ternary operator."
   ]
  },
  {
   "cell_type": "code",
   "execution_count": null,
   "metadata": {},
   "outputs": [
    {
     "name": "stdout",
     "output_type": "stream",
     "text": [
      "Largest Number :  4\n"
     ]
    }
   ],
   "source": [
    "n3 = int(input(\"Enter number 1 : \"))\n",
    "n4 = int(input(\"Enter number 2 : \"))\n",
    "if n3>=n4 :\n",
    "    if n3==n4 :\n",
    "        print(\"Eaqul\")\n",
    "    else :\n",
    "        print(\"Largest Number : \",n3)\n",
    "else :\n",
    "        print(\"Largest Number : \",n4)\n"
   ]
  },
  {
   "cell_type": "markdown",
   "metadata": {},
   "source": [
    "### 04) WAP to find out largest number from given three numbers."
   ]
  },
  {
   "cell_type": "code",
   "execution_count": null,
   "metadata": {},
   "outputs": [
    {
     "name": "stdout",
     "output_type": "stream",
     "text": [
      "Eaqul\n"
     ]
    }
   ],
   "source": [
    "n5 = int(input(\"Enter number 1 : \"))\n",
    "n6 = int(input(\"Enter number 2 : \"))\n",
    "n7 = int(input(\"Enter number 3 : \"))\n",
    "if n5==n6==n7 :\n",
    "    print(\"Eaqul\")\n",
    "elif n5>=n6 :\n",
    "    if n5>=n7 :\n",
    "        print(\"Largest Number : \",n5)\n",
    "    else :\n",
    "        print(\"Largest Number : \",n7)\n",
    "else :\n",
    "    if n6>=n7 :\n",
    "        print(\"Largest Number : \",n6)\n",
    "    else :\n",
    "        print(\"Largest Number : \",n7)"
   ]
  },
  {
   "cell_type": "markdown",
   "metadata": {},
   "source": [
    "### 05) WAP to check whether the given year is leap year or not.\n",
    "[If a year can be divisible by 4 but not divisible by 100 then it is leap year but if it is divisible by 400 then it is leap year]"
   ]
  },
  {
   "cell_type": "code",
   "execution_count": 2,
   "metadata": {},
   "outputs": [
    {
     "name": "stdout",
     "output_type": "stream",
     "text": [
      "Leap year.\n"
     ]
    }
   ],
   "source": [
    "year = int(input(\"Enter Year to check leap or not : \"))\n",
    "if year%400==0 or (year%4==0 and year%100!=0 ):\n",
    "    print(\"Leap year.\")\n",
    "else :\n",
    "    print(\"Not Leap year.\")"
   ]
  },
  {
   "cell_type": "markdown",
   "metadata": {},
   "source": [
    "### 06) WAP in python to display the name of the day according to the number given by the user."
   ]
  },
  {
   "cell_type": "code",
   "execution_count": 8,
   "metadata": {},
   "outputs": [
    {
     "name": "stdout",
     "output_type": "stream",
     "text": [
      "Thursday\n"
     ]
    }
   ],
   "source": [
    "day = int(input(\"Enter the number : \"))\n",
    "if day%7==0 :\n",
    "    print(\"Sunday.\")\n",
    "elif day%7==1 :\n",
    "    print(\"Monday\")\n",
    "elif day%7==2 :\n",
    "    print(\"Tuesday\")\n",
    "elif day%7==3 :\n",
    "    print(\"Wensday\")\n",
    "elif day%7==4 :\n",
    "    print(\"Thursday\")\n",
    "elif day%7==5 :\n",
    "    print(\"Friday\")\n",
    "elif day%7==6 :\n",
    "    print(\"saterday\")"
   ]
  },
  {
   "cell_type": "markdown",
   "metadata": {},
   "source": [
    "### 07) WAP to implement simple calculator which performs (add,sub,mul,div) of two no. based on user input."
   ]
  },
  {
   "cell_type": "code",
   "execution_count": 12,
   "metadata": {},
   "outputs": [
    {
     "name": "stdout",
     "output_type": "stream",
     "text": [
      "123456 / 234 = 527.5897435897435\n"
     ]
    }
   ],
   "source": [
    "n8 = int(input(\"Enter number 1 : \"))\n",
    "n9 = int(input(\"Enter number 2 : \"))\n",
    "op = int(input(\"Enter\\n1)Add\\n2)Sub\\n3)Mul\\n4)div\\n\"))\n",
    "if op==1 :\n",
    "    print(n8,\"+\",n9,\"=\",n8+n9)\n",
    "elif op==2 :\n",
    "    print(n8,\"-\",n9,\"=\",n8-n9)\n",
    "elif op==3 :\n",
    "    print(n8,\"X\",n9,\"=\",n8*n9)\n",
    "elif op==4 :\n",
    "    print(n8,\"/\",n9,\"=\",n8/n9)\n",
    "else :\n",
    "    print(\"Wrong input.\")"
   ]
  },
  {
   "cell_type": "markdown",
   "metadata": {},
   "source": [
    "### 08) WAP to read marks of five subjects. Calculate percentage and print class accordingly. \n",
    "Fail below 35 </br>\n",
    "Pass Class between 35 to 45 </br>\n",
    "Second Class</br>\n",
    "between 45 to 60</br>\n",
    "First Class between 60 to 70</br> \n",
    "Distinction if more than 70"
   ]
  },
  {
   "cell_type": "code",
   "execution_count": 32,
   "metadata": {},
   "outputs": [
    {
     "name": "stdout",
     "output_type": "stream",
     "text": [
      "Distinct\n"
     ]
    }
   ],
   "source": [
    "m1 = int(input(\"Enter first subject mark out of 100 : \"))\n",
    "m2 = int(input(\"Enter second subject mark out of 100 : \"))\n",
    "m3 = int(input(\"Enter third subject mark out of 100 : \"))\n",
    "m4 = int(input(\"Enter fourth subject mark out of 100 : \"))\n",
    "m5 = int(input(\"Enter fifth subject mark out of 100 : \"))\n",
    "per = (m1+m2+m3+m4+m5)/5\n",
    "if per<35 :\n",
    "    print(\"Fail\")\n",
    "elif per>=35 and per<45 :\n",
    "    print(\"Pass\")\n",
    "elif per>=45 and per<60 :\n",
    "    print(\"Second class\")\n",
    "elif per>=60 and per<70 :\n",
    "    print(\"First class\")\n",
    "else :\n",
    "    print(\"Distinct\")\n"
   ]
  },
  {
   "cell_type": "markdown",
   "metadata": {},
   "source": [
    "### 09) Three sides of a triangle are entered through the keyboard, WAP to check whether the triangle is isosceles, equilateral, scalene or right-angled triangle."
   ]
  },
  {
   "cell_type": "code",
   "execution_count": null,
   "metadata": {},
   "outputs": [],
   "source": [
    "x = int(input(\"Enter side 1 : \"))\n",
    "y = int(input(\"Enter side 2 : \"))\n",
    "z = int(input(\"Enter side 3 : \"))\n",
    "if x==y==z :\n",
    "    print(\"Equilateral Triangle.\")\n",
    "elif x==y or y==x or z==x :\n",
    "    print(\"Isosceles Triangle.\")\n",
    "else :\n",
    "    print(\"Scalene Triangle.\")"
   ]
  },
  {
   "cell_type": "markdown",
   "metadata": {},
   "source": [
    "### 10) WAP to find the second largest number among three user input numbers."
   ]
  },
  {
   "cell_type": "code",
   "execution_count": null,
   "metadata": {},
   "outputs": [
    {
     "name": "stdout",
     "output_type": "stream",
     "text": [
      "Second Largest number :  4\n"
     ]
    }
   ],
   "source": [
    "a = int(input(\"Enter number 1 : \"))\n",
    "b = int(input(\"Enter number 2 : \"))\n",
    "c = int(input(\"Enter number 3 : \"))\n",
    "\n",
    "if a==b!=c or a==c!=b or b==c!=a :\n",
    "    if a>c :\n",
    "        print(\"Second Largest number : \",c)\n",
    "    elif a>b :\n",
    "        print(\"Second Largest number : \",b)\n",
    "    else :\n",
    "        print(\"Second Largest number : \",a)\n",
    "else :\n",
    "    if a>b :\n",
    "        if a>c :\n",
    "            if b>c :\n",
    "                print(\"Second Largest number : \",b)\n",
    "            else :\n",
    "                print(\"Second Largest number : \",c)\n",
    "        else : \n",
    "            print(\"Second Largest number : \",a)\n",
    "    else :\n",
    "        if b>c :\n",
    "            if a>c :\n",
    "                print(\"Second Largest number : \",a)\n",
    "            else :\n",
    "                print(\"Second Largest number : \",c)\n",
    "        else : \n",
    "            print(\"Second Largest number : \",b)"
   ]
  },
  {
   "cell_type": "markdown",
   "metadata": {},
   "source": [
    "### 11) WAP to calculate electricity bill based on following criteria. Which takes the unit from the user.\n",
    "a. First 1 to 50 units – Rs. 2.60/unit</br>\n",
    "b. Next 50 to 100 units – Rs. 3.25/unit</br>\n",
    "c. Next 100 to 200 units – Rs. 5.26/unit</br>\n",
    "d. above 200 units – Rs. 8.45/unit"
   ]
  },
  {
   "cell_type": "code",
   "execution_count": 13,
   "metadata": {},
   "outputs": [
    {
     "name": "stdout",
     "output_type": "stream",
     "text": [
      "Your Bill is :  292.5 Rs.\n"
     ]
    }
   ],
   "source": [
    "unit = int(input(\"Enter total unit : \"))\n",
    "bill = 0\n",
    "if unit<=50 :\n",
    "    bill += unit*2.60\n",
    "elif unit<=100 :\n",
    "    bill += 50*2.60 + (unit-50)*3.25\n",
    "elif unit<=200 :\n",
    "    bill += 50*2.60 + 50*3.25 + (unit-100)*5.26\n",
    "else :\n",
    "    bill += 50*2.60 + 50*3.25 + 100*5.26 + (unit-200)*8.45\n",
    "\n",
    "print(\"Your Bill is : \",bill,\"Rs.\")"
   ]
  }
 ],
 "metadata": {
  "kernelspec": {
   "display_name": "Python 3",
   "language": "python",
   "name": "python3"
  },
  "language_info": {
   "codemirror_mode": {
    "name": "ipython",
    "version": 3
   },
   "file_extension": ".py",
   "mimetype": "text/x-python",
   "name": "python",
   "nbconvert_exporter": "python",
   "pygments_lexer": "ipython3",
   "version": "3.12.0"
  }
 },
 "nbformat": 4,
 "nbformat_minor": 4
}
