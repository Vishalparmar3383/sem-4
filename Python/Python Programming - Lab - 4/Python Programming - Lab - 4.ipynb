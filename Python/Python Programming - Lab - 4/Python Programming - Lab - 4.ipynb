{
 "cells": [
  {
   "cell_type": "markdown",
   "metadata": {},
   "source": [
    "\n",
    "<a href='https://www.darshan.ac.in/'> <img src='https://www.darshan.ac.in/Content/media/DU_Logo.svg' width=\"250\" height=\"300\"/></a>\n",
    "<pre>\n",
    "<center><b><h1>Python Programming - 2301CS404</b></center>\n",
    "<center><b><h1>Lab - 4</b></center>    \n",
    "<pre>"
   ]
  },
  {
   "cell_type": "markdown",
   "metadata": {},
   "source": [
    "# String"
   ]
  },
  {
   "cell_type": "markdown",
   "metadata": {},
   "source": [
    "### 01) WAP to check whether the given string is palindrome or not."
   ]
  },
  {
   "cell_type": "code",
   "execution_count": 3,
   "metadata": {},
   "outputs": [
    {
     "name": "stdout",
     "output_type": "stream",
     "text": [
      "Palindrome\n"
     ]
    }
   ],
   "source": [
    "s = input(\"Enter String to check palindrome or not : \")\n",
    "if s == s[::-1] :\n",
    "    print(\"Palindrome\")\n",
    "else :\n",
    "    print(\"Not Palindrome\")"
   ]
  },
  {
   "cell_type": "markdown",
   "metadata": {},
   "source": [
    "### 02) WAP to reverse the words in the given string."
   ]
  },
  {
   "cell_type": "code",
   "execution_count": null,
   "metadata": {},
   "outputs": [
    {
     "name": "stdout",
     "output_type": "stream",
     "text": [
      "woh\n",
      "old string : hi how\n",
      "new string : how hi\n"
     ]
    }
   ],
   "source": [
    "s = input(\"Enter String : \")\n",
    "ts = s.split()[::-1]\n",
    "ans = ' '.join(ts)\n",
    "print(\"old string :\",s)\n",
    "print(\"new string :\",ans)"
   ]
  },
  {
   "cell_type": "markdown",
   "metadata": {},
   "source": [
    "### 03) WAP to remove ith character from given string."
   ]
  },
  {
   "cell_type": "code",
   "execution_count": 35,
   "metadata": {},
   "outputs": [
    {
     "name": "stdout",
     "output_type": "stream",
     "text": [
      "Original String : asdfhjdsjskjdkcdbvc njdvbjsjbjn jsdk\n",
      "String after remove character : asdfhjdsjskjdkcdbvc ndvbjsjbjn jsdk\n"
     ]
    }
   ],
   "source": [
    "s = input(\"Enter String : \")\n",
    "index = int(input(\"Enter index to remove character at this index : \"))\n",
    "print(\"Original String :\",s)\n",
    "s = s[:index]+s[index+1:]\n",
    "print(\"String after remove character :\",s)"
   ]
  },
  {
   "cell_type": "markdown",
   "metadata": {},
   "source": [
    "### 04) WAP to find length of string without using len function."
   ]
  },
  {
   "cell_type": "code",
   "execution_count": 36,
   "metadata": {},
   "outputs": [
    {
     "name": "stdout",
     "output_type": "stream",
     "text": [
      "Length of String : 8\n"
     ]
    }
   ],
   "source": [
    "s = input(\"Enter String : \")\n",
    "count = 0\n",
    "for i in s :\n",
    "    count += 1\n",
    "print(\"Length of String :\",count)"
   ]
  },
  {
   "cell_type": "markdown",
   "metadata": {},
   "source": [
    "### 05) WAP to print even length word in string."
   ]
  },
  {
   "cell_type": "code",
   "execution_count": 37,
   "metadata": {},
   "outputs": [
    {
     "name": "stdout",
     "output_type": "stream",
     "text": [
      "hi,yu\n"
     ]
    }
   ],
   "source": [
    "s = input(\"Enter String : \")\n",
    "ts = s.split()\n",
    "ans = ''\n",
    "for i in range(len(ts)) :\n",
    "    if len(ts[i]) %2 == 0 :\n",
    "        if i == 0 :\n",
    "            ans += ts[i]\n",
    "        else :\n",
    "            ans += ','+ts[i]\n",
    "print(ans)"
   ]
  },
  {
   "cell_type": "markdown",
   "metadata": {},
   "source": [
    "### 06) WAP to count numbers of vowels in given string."
   ]
  },
  {
   "cell_type": "code",
   "execution_count": 39,
   "metadata": {},
   "outputs": [
    {
     "name": "stdout",
     "output_type": "stream",
     "text": [
      "Your String : vishal parmar\n",
      "Number of vowels in s : 4\n"
     ]
    }
   ],
   "source": [
    "s = input(\"Enter String : \")\n",
    "count = 0\n",
    "for i in range(len(s)) :\n",
    "    if s[i].casefold()=='a' or s[i].casefold()=='e' or s[i].casefold()=='i' or s[i].casefold()=='o' or s[i].casefold()=='u' :\n",
    "        count += 1\n",
    "print(\"Your String :\",s)\n",
    "print(\"Number of vowels in s :\",count)"
   ]
  },
  {
   "cell_type": "markdown",
   "metadata": {},
   "source": [
    "### 07) WAP to capitalize the first and last character of each word in a string."
   ]
  },
  {
   "cell_type": "code",
   "execution_count": 17,
   "metadata": {},
   "outputs": [
    {
     "name": "stdout",
     "output_type": "stream",
     "text": [
      "old string : hi how\n",
      "new string : HI HoW\n"
     ]
    }
   ],
   "source": [
    "s = input(\"Enter String : \")\n",
    "ts = s.split()\n",
    "ts[0][1].upper\n",
    "for i in range(len(ts)) :\n",
    "    ts[i] = ts[i][0].upper() + ts[i][1:len(ts[i])-1] + ts[i][-1].upper()\n",
    "ans = ' '.join(ts)\n",
    "print(\"old string :\",s)\n",
    "print(\"new string :\",ans)"
   ]
  },
  {
   "cell_type": "markdown",
   "metadata": {},
   "source": [
    "### 08) WAP to convert given array to string."
   ]
  },
  {
   "cell_type": "code",
   "execution_count": null,
   "metadata": {},
   "outputs": [],
   "source": [
    "l = ["hi","how","are"]",
    "print(' '.join(l))"
   ]
  },
  {
   "cell_type": "markdown",
   "metadata": {},
   "source": [
    "### 09) Check if the password and confirm password is same or not. \n",
    "### In case of only case's mistake, show the error message."
   ]
  },
  {
   "cell_type": "code",
   "execution_count": 21,
   "metadata": {},
   "outputs": [
    {
     "name": "stdout",
     "output_type": "stream",
     "text": [
      "Not same.\n"
     ]
    }
   ],
   "source": [
    "ps = input(\"Enter password : \")\n",
    "cps = input(\"Enter confirm password : \")\n",
    "if ps==cps :\n",
    "    print(\"same password.\")\n",
    "elif ps.upper() == cps.upper() :\n",
    "    print(\"Error.....\")\n",
    "else :\n",
    "    print(\"Not same.\")"
   ]
  },
  {
   "cell_type": "markdown",
   "metadata": {},
   "source": [
    "### 10) : Display credit card number. \n",
    "### card no. : 1234 5678 9012 3456\n",
    "### display as  : **** **** **** 3456"
   ]
  },
  {
   "cell_type": "code",
   "execution_count": 28,
   "metadata": {},
   "outputs": [
    {
     "name": "stdout",
     "output_type": "stream",
     "text": [
      "**** **** **** 1234\n"
     ]
    }
   ],
   "source": [
    "cn = input(\"Enter credit card number : \")\n",
    "ans = ''\n",
    "for i in range(len(cn)-4) :\n",
    "    if cn[i].isnumeric() :\n",
    "        ans += '*'\n",
    "    else :\n",
    "        ans += ' '\n",
    "ans += cn[-4:]\n",
    "print(ans)"
   ]
  },
  {
   "cell_type": "markdown",
   "metadata": {},
   "source": [
    "### 11) : Checking if the two strings are Anagram or not.\n",
    "### s1 = decimal and s2 = medical are Anagram"
   ]
  },
  {
   "cell_type": "code",
   "execution_count": 38,
   "metadata": {},
   "outputs": [
    {
     "name": "stdout",
     "output_type": "stream",
     "text": [
      "Given String is not Anagram\n"
     ]
    }
   ],
   "source": [
    "s1 = input(\"Enter first string : \")\n",
    "s2 = input(\"Enter second string : \")\n",
    "if sorted(s1.replace(' ','').lower()) == sorted(s2.replace(' ','').lower()):\n",
    "    print(\"Given String is Anagram\")\n",
    "else :\n",
    "    print(\"Given String is not Anagram\")\n"
   ]
  },
  {
   "cell_type": "markdown",
   "metadata": {},
   "source": [
    "### 12) : Rearrange the given string. First lowercase then uppercase alphabets.\n",
    "### input : EHlsarwiwhtwMV\n",
    "### output : lsarwiwhtwEHMV"
   ]
  },
  {
   "cell_type": "code",
   "execution_count": 1,
   "metadata": {},
   "outputs": [
    {
     "name": "stdout",
     "output_type": "stream",
     "text": [
      "absnxkjSB\n"
     ]
    }
   ],
   "source": [
    "s = input(\"Enter String : \")\n",
    "ans = ''\n",
    "upper = ''\n",
    "for i in s:\n",
    "    if i.islower() :\n",
    "        ans += i\n",
    "    else :\n",
    "        upper += i\n",
    "ans += upper\n",
    "print(ans)"
   ]
  }
 ],
 "metadata": {
  "kernelspec": {
   "display_name": "Python 3",
   "language": "python",
   "name": "python3"
  },
  "language_info": {
   "codemirror_mode": {
    "name": "ipython",
    "version": 3
   },
   "file_extension": ".py",
   "mimetype": "text/x-python",
   "name": "python",
   "nbconvert_exporter": "python",
   "pygments_lexer": "ipython3",
   "version": "3.12.6"
  }
 },
 "nbformat": 4,
 "nbformat_minor": 4
}
